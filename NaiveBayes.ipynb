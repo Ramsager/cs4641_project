{
  "nbformat": 4,
  "nbformat_minor": 0,
  "metadata": {
    "colab": {
      "name": "NaiveBayes.ipynb",
      "provenance": [],
      "collapsed_sections": []
    },
    "kernelspec": {
      "name": "python3",
      "display_name": "Python 3"
    },
    "language_info": {
      "name": "python"
    }
  },
  "cells": [
    {
      "cell_type": "code",
      "execution_count": 1,
      "metadata": {
        "id": "r0N5pDHzMZr5"
      },
      "outputs": [],
      "source": [
        "import pandas as pd\n",
        "from datetime import datetime"
      ]
    },
    {
      "cell_type": "markdown",
      "source": [
        "Import Data- Data must be uploaded as in order for it to be imported first"
      ],
      "metadata": {
        "id": "ebQu1fcMMiFr"
      }
    },
    {
      "cell_type": "code",
      "source": [
        "df = pd.read_csv(\"aita_clean.csv\")"
      ],
      "metadata": {
        "id": "7SLcIC9VMbhG"
      },
      "execution_count": 2,
      "outputs": []
    },
    {
      "cell_type": "markdown",
      "source": [
        "Helper functions to sort the data and identify characteristics for use as facotrs in the naive bayes net"
      ],
      "metadata": {
        "id": "FjToDsEHMjtP"
      }
    },
    {
      "cell_type": "code",
      "source": [
        "def findWord(text, word):\n",
        "  if word in text:\n",
        "    return 1\n",
        "  else:\n",
        "    return 0\n",
        "\n",
        "def authorGender(text):\n",
        "  start = None\n",
        "  end = None\n",
        "  start = text.find(\"(\")\n",
        "  end = text.find(\")\")\n",
        "  gender = None\n",
        "  if end != None and start != None and end > start:\n",
        "    gender = text[end-1]\n",
        "  if gender == 'F' or gender == 'f':\n",
        "    return \"F\"\n",
        "  if gender == 'M' or gender == 'm':\n",
        "    return \"M\"\n",
        "    gender = text[start+1]\n",
        "  if gender == 'F' or gender == 'f':\n",
        "    return \"F\"\n",
        "  if gender == 'M' or gender == 'm':\n",
        "    return \"M\"\n",
        "  else:\n",
        "    return None\n",
        "\n",
        "  \n",
        "def authorGender2(text):\n",
        "  if findWord(text, \"female\"):\n",
        "    return \"F\"\n",
        "  if findWord(text, \"male\"):\n",
        "    return \"M\"\n",
        "  return None\n",
        "\n",
        "\n",
        "\n",
        "def profanity(text):\n",
        "  if findWord(text, \"fuck\") or findWord(text, \"bitch\") or findWord(text, \"shit\") or findWord(text, \"damn\") or findWord(text, \"cunt\"):\n",
        "    return 1\n",
        "  else:\n",
        "    return 0\n",
        "\n",
        "def getHour(timestamp):\n",
        "  return datetime.fromtimestamp(timestamp).hour\n",
        "\n",
        "def weed(text):\n",
        "  if findWord(text, \"weed\") or findWord(text, \"marijuana\"):\n",
        "    return 1\n",
        "  else:\n",
        "    return 0\n",
        "\n",
        "def drugs(text):\n",
        "  if findWord(text, \"crack\") or findWord(text, \"cocaine\") or findWord(text, \"meth\") or findWord(text, \"drug\"):\n",
        "    return 1\n",
        "  else:\n",
        "    return 0\n",
        "\n",
        "def parents(text):\n",
        "  if findWord(text, \"mom\") or findWord(text, \"dad\") or findWord(text, \"mother\") or findWord(text, \"father\") or findWord(text, \"parents\"):\n",
        "    return 1\n",
        "  else:\n",
        "    return 0\n",
        "\n",
        "def hypothetical(title, text):\n",
        "  if findWord(title, \"wibta\") or findWord(text, \"wibta\"):\n",
        "    return 1\n",
        "  else:\n",
        "    return 0\n",
        "\n",
        "def gf(text):\n",
        "  if findWord(text, \"girlfriend\") or findWord(text, \"gf\") or findWord(text, \"wife\"):\n",
        "    return 1\n",
        "  return 0\n",
        "\n",
        "def bf(text):\n",
        "  if findWord(text, \"boyfriend\") or findWord(text, \"bf\") or findWord(text, \"husband\"):\n",
        "    return 1\n",
        "  return 0\n",
        "\n",
        "def kids(text):\n",
        "  if findWord(text, \"kids\") or findWord(text, \"son\") or findWord(text, \"daughter\"):\n",
        "    return 1\n",
        "  return 0\n",
        "\n",
        "def son(text):\n",
        "  if findWord(text, \"son\"):\n",
        "    return 1\n",
        "  return 0\n",
        "\n",
        "def daughter(text):\n",
        "  if findWord(text, \"daughter\"):\n",
        "    return 1\n",
        "  return 0"
      ],
      "metadata": {
        "id": "HQ0ZWse9Mc6Z"
      },
      "execution_count": 3,
      "outputs": []
    },
    {
      "cell_type": "markdown",
      "source": [
        "Iterate through the data row by row, using the helper functions to identify the characteristics of the data"
      ],
      "metadata": {
        "id": "iOiXyC9vMqAO"
      }
    },
    {
      "cell_type": "code",
      "source": [
        "titleChars = []\n",
        "textChars = []\n",
        "isAsshole = []\n",
        "authorgender = []\n",
        "Parents = []\n",
        "prof = []\n",
        "Weed = []\n",
        "Drugs = []\n",
        "hypo = []\n",
        "boyfriend = []\n",
        "girlfriend = []\n",
        "sons = []\n",
        "daughters = []\n",
        "children = []\n",
        "hour = []\n",
        "for row in df.iterrows():\n",
        "  title = row[1]['title']\n",
        "  text = row[1]['body']\n",
        "  time = row[1]['timestamp']\n",
        "  hr = getHour(time)\n",
        "  titleLength = 0\n",
        "  textLength = 0\n",
        "  isA = \"Asshole\"\n",
        "  if (type(title) == str):\n",
        "    titleLength = len(title)\n",
        "  if (type(text) == str):\n",
        "    textLength = len(text)\n",
        "    gender = authorGender(text.lower())\n",
        "    if gender == None:\n",
        "      gender = authorGender2(text.lower())\n",
        "    mentionedParents = parents(text.lower())\n",
        "\n",
        "    p = profanity(text.lower())\n",
        "    w = weed(text.lower())\n",
        "    d = drugs(text.lower())\n",
        "    h = hypothetical(title.lower(), text.lower())\n",
        "    b = bf(text.lower())\n",
        "    g = gf(text.lower())\n",
        "    child = kids(text.lower())\n",
        "    s = son(text.lower())\n",
        "    da = daughter(text.lower())\n",
        "  if (row[1]['is_asshole'] == 0):\n",
        "    isA = \"Not Asshole\"\n",
        "  \n",
        "  isAsshole.append(isA)\n",
        "  titleChars.append(titleLength)\n",
        "  textChars.append(textLength)\n",
        "  authorgender.append(gender)\n",
        "  Parents.append(mentionedParents)\n",
        "  prof.append(p)\n",
        "  Weed.append(w)\n",
        "  Drugs.append(d)\n",
        "  hypo.append(h)\n",
        "  boyfriend.append(b)\n",
        "  girlfriend.append(g)\n",
        "  children.append(child)\n",
        "  sons.append(s)\n",
        "  daughters.append(da)\n",
        "  hour.append(hr)\n"
      ],
      "metadata": {
        "id": "mI7AdULLMfKz"
      },
      "execution_count": 4,
      "outputs": []
    },
    {
      "cell_type": "markdown",
      "source": [
        "Append new characteristics to the data"
      ],
      "metadata": {
        "id": "M_BnmTIpM12h"
      }
    },
    {
      "cell_type": "code",
      "source": [
        "df['Hour Posted'] = hour\n",
        "df['Title Length'] = titleChars\n",
        "df['Text Length'] = textChars\n",
        "df['IsAsshole'] = isAsshole\n",
        "df['Author Gender'] = authorgender\n",
        "df['Mentions Parents'] = Parents\n",
        "df['Mentions Weed'] = Weed\n",
        "df['Mentions Drugs'] = Drugs\n",
        "df['Profanity'] = prof\n",
        "df['Hyopthetical'] = hypo\n",
        "df['Mentions Girlfriend/Wife'] = girlfriend\n",
        "df['Mentions Boyfriend/Husband'] = boyfriend\n",
        "df['Mentions Kids'] = children\n",
        "df['Mentions Son'] = sons\n",
        "df['Mentions Daughter'] = daughters\n"
      ],
      "metadata": {
        "id": "amRtwT1UMg8j"
      },
      "execution_count": 5,
      "outputs": []
    },
    {
      "cell_type": "markdown",
      "source": [
        "Round the title length and text length to nearest 10, also group outliers together"
      ],
      "metadata": {
        "id": "WXGaZZ9xM9SD"
      }
    },
    {
      "cell_type": "code",
      "source": [
        "for idx, row in df.iterrows():\n",
        "  titleLength = row['Title Length']\n",
        "  if titleLength < 20:\n",
        "    df.at[idx, 'Title Length'] = 20\n",
        "  elif titleLength > 100:\n",
        "    df.at[idx, 'Title Length'] = 120\n",
        "  else:\n",
        "    df.at[idx, 'Title Length'] = round(titleLength/10)*10 \n",
        "\n",
        "  textLength = row['Text Length']\n",
        "  if textLength < 100:\n",
        "    df.at[idx, 'Text Length'] = 100\n",
        "  elif textLength > 3200:\n",
        "    df.at[idx, 'Text Length'] = 3200\n",
        "  else:\n",
        "    df.at[idx, 'Text Length'] = round(textLength/10)*10 "
      ],
      "metadata": {
        "id": "OCxQwPl8M8qx"
      },
      "execution_count": 6,
      "outputs": []
    },
    {
      "cell_type": "markdown",
      "source": [
        "Format the data for use in naive bayes, picking out the important characteristics instead of all of them. Also splits the data into a test and train section"
      ],
      "metadata": {
        "id": "FEBpwUQGNGfZ"
      }
    },
    {
      "cell_type": "code",
      "source": [
        "nbData = pd.DataFrame()\n",
        "nbData['IsAsshole'] = df['IsAsshole']\n",
        "nbData['Title Length'] = df['Title Length']\n",
        "nbData['Text Length'] = df['Text Length']\n",
        "nbData['Hour'] = df['Hour Posted']\n",
        "nbData['Parents'] = df['Mentions Parents']\n",
        "nbData['Weed'] = df['Mentions Weed']\n",
        "nbData['Drugs'] = df['Mentions Drugs']\n",
        "nbData['Profanity'] = df['Profanity']\n",
        "nbData['Hyopthetical'] = df['Hyopthetical']\n",
        "nbData['Sex'] = df['Author Gender']\n",
        "nbData['GF'] = df['Mentions Girlfriend/Wife']\n",
        "nbData['BF'] = df['Mentions Boyfriend/Husband']\n",
        "nbData['Kids'] = df['Mentions Kids']\n",
        "print(nbData)\n",
        "nbTest = nbData.iloc[90000:97627]\n",
        "nbData = nbData.iloc[0:89999]"
      ],
      "metadata": {
        "id": "yQv2ci8bNNRI",
        "colab": {
          "base_uri": "https://localhost:8080/"
        },
        "outputId": "7dde446c-3d21-49a9-cd2a-a6ae1d9fa861"
      },
      "execution_count": 7,
      "outputs": [
        {
          "output_type": "stream",
          "name": "stdout",
          "text": [
            "         IsAsshole  Title Length  Text Length  Hour  Parents  Weed  Drugs  \\\n",
            "0          Asshole            70          510    21        0     0      1   \n",
            "1          Asshole            40          690    22        1     0      0   \n",
            "2      Not Asshole            40          100    23        0     0      0   \n",
            "3          Asshole            60          200     0        1     0      0   \n",
            "4      Not Asshole           120          100     0        1     0      0   \n",
            "...            ...           ...          ...   ...      ...   ...    ...   \n",
            "97623  Not Asshole            60          740    17        1     0      0   \n",
            "97624  Not Asshole           120         2310    17        1     0      0   \n",
            "97625  Not Asshole            60         2030    17        1     0      0   \n",
            "97626  Not Asshole            50         1200    17        1     0      1   \n",
            "97627  Not Asshole            80         2000    17        0     0      0   \n",
            "\n",
            "       Profanity  Hyopthetical   Sex  GF  BF  Kids  \n",
            "0              0             0  None   0   0     0  \n",
            "1              0             0  None   0   0     0  \n",
            "2              0             0  None   0   0     0  \n",
            "3              0             0  None   0   0     0  \n",
            "4              0             0  None   0   0     0  \n",
            "...          ...           ...   ...  ..  ..   ...  \n",
            "97623          0             0     F   0   0     1  \n",
            "97624          0             0     M   0   1     1  \n",
            "97625          0             0  None   0   0     1  \n",
            "97626          1             1  None   1   1     0  \n",
            "97627          1             1     F   0   0     1  \n",
            "\n",
            "[97628 rows x 13 columns]\n"
          ]
        }
      ]
    },
    {
      "cell_type": "markdown",
      "source": [
        "Get the prior probabilities"
      ],
      "metadata": {
        "id": "qwxjzU95NPJE"
      }
    },
    {
      "cell_type": "code",
      "source": [
        "priors = nbData.groupby(\"IsAsshole\").size().div(len(nbData))\n",
        "print(priors)"
      ],
      "metadata": {
        "id": "-GT52VebNQ7W",
        "colab": {
          "base_uri": "https://localhost:8080/"
        },
        "outputId": "88c5bc92-c55b-47b0-9260-0ff720102027"
      },
      "execution_count": 8,
      "outputs": [
        {
          "output_type": "stream",
          "name": "stdout",
          "text": [
            "IsAsshole\n",
            "Asshole        0.273147\n",
            "Not Asshole    0.726853\n",
            "dtype: float64\n"
          ]
        }
      ]
    },
    {
      "cell_type": "markdown",
      "source": [
        "Get the likelihoods"
      ],
      "metadata": {
        "id": "_z91VzUQNTbS"
      }
    },
    {
      "cell_type": "code",
      "source": [
        "likelihoods = {}\n",
        "for (columnName, columnData) in nbData.iteritems():\n",
        "  likelihoods[columnName] = nbData.groupby(['IsAsshole', columnName]).size().div(len(nbData)).div(priors)\n",
        "#print(likelihoods)\n",
        "print(likelihoods['Sex']['Not Asshole']['F'])\n",
        "print(likelihoods['Sex']['Not Asshole']['M'])"
      ],
      "metadata": {
        "id": "5aKmYdk8NS6j",
        "colab": {
          "base_uri": "https://localhost:8080/"
        },
        "outputId": "6f4518fc-9d0b-4654-9618-ca968607d2c0"
      },
      "execution_count": 9,
      "outputs": [
        {
          "output_type": "stream",
          "name": "stdout",
          "text": [
            "0.07594472300354653\n",
            "0.06411275528922587\n"
          ]
        }
      ]
    },
    {
      "cell_type": "markdown",
      "source": [
        "Iterate through the train data row by row to calculate the probability of asshole verdict vs not ashsole verdict. The larger probability is returned as the verdict and the total number of correct verdicts is compared against the size of the test data to get the accuracy"
      ],
      "metadata": {
        "id": "9AS_lrFPNbMZ"
      }
    },
    {
      "cell_type": "code",
      "source": [
        "numCorrect = 0\n",
        "numIncorrect = 0\n",
        "for entry in nbTest.iterrows():\n",
        "  row = entry[1]\n",
        "  p_asshole = 1\n",
        "  p_not_asshole = 1\n",
        "  #print(entry)\n",
        "  for (columnName, columnData) in nbData.iteritems():\n",
        "    #print(columnName)\n",
        "    #print(row[columnName])\n",
        "    if columnName != \"IsAsshole\" and row[columnName] != None:\n",
        "      p_asshole = p_asshole * likelihoods[columnName]['Asshole'][row[columnName]]\n",
        "      p_not_asshole = p_not_asshole * likelihoods[columnName]['Not Asshole'][row[columnName]]\n",
        "  p_asshole = p_asshole * priors['Asshole']\n",
        "  p_not_asshole = p_not_asshole * priors['Not Asshole']\n",
        "  if p_asshole > p_not_asshole:\n",
        "    prediction = \"Asshole\"\n",
        "  else:\n",
        "    prediction = \"Not Asshole\"\n",
        "  if prediction == row['IsAsshole']:\n",
        "    numCorrect += 1\n",
        "  else:\n",
        "    numIncorrect += 1\n",
        "\n",
        "accuracy = numCorrect/(numIncorrect + numCorrect)\n",
        "print(accuracy)"
      ],
      "metadata": {
        "id": "pQKQtoWKNrAE",
        "colab": {
          "base_uri": "https://localhost:8080/"
        },
        "outputId": "7c8f564e-7b1b-4058-8d89-fd685a287a92"
      },
      "execution_count": 10,
      "outputs": [
        {
          "output_type": "stream",
          "name": "stdout",
          "text": [
            "0.7470827323980596\n"
          ]
        }
      ]
    }
  ]
}